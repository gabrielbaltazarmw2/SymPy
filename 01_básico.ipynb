{
  "nbformat": 4,
  "nbformat_minor": 0,
  "metadata": {
    "colab": {
      "provenance": [],
      "authorship_tag": "ABX9TyP6c1xgFBEn5zJOue/KUQSJ",
      "include_colab_link": true
    },
    "kernelspec": {
      "name": "python3",
      "display_name": "Python 3"
    },
    "language_info": {
      "name": "python"
    }
  },
  "cells": [
    {
      "cell_type": "markdown",
      "metadata": {
        "id": "view-in-github",
        "colab_type": "text"
      },
      "source": [
        "<a href=\"https://colab.research.google.com/github/gabrielbaltazarmw2/SymPy/blob/main/01_b%C3%A1sico.ipynb\" target=\"_parent\"><img src=\"https://colab.research.google.com/assets/colab-badge.svg\" alt=\"Open In Colab\"/></a>"
      ]
    },
    {
      "cell_type": "code",
      "execution_count": 23,
      "metadata": {
        "id": "bodJZALTDv5V"
      },
      "outputs": [],
      "source": [
        "from sympy import *\n",
        "import sympy as sp\n",
        "import numpy as np\n",
        "import matplotlib.pyplot as plt"
      ]
    },
    {
      "cell_type": "markdown",
      "source": [
        "Criando uma variável simbólica:"
      ],
      "metadata": {
        "id": "PnDQXycjEE5Q"
      }
    },
    {
      "cell_type": "code",
      "source": [
        "x = symbols('x')\n",
        "x"
      ],
      "metadata": {
        "colab": {
          "base_uri": "https://localhost:8080/",
          "height": 39
        },
        "id": "lB8j9LjaEB9y",
        "outputId": "8c14d476-60ea-4500-8bd1-0363c5b6460a"
      },
      "execution_count": 6,
      "outputs": [
        {
          "output_type": "execute_result",
          "data": {
            "text/plain": [
              "x"
            ],
            "text/latex": "$\\displaystyle x$"
          },
          "metadata": {},
          "execution_count": 6
        }
      ]
    },
    {
      "cell_type": "markdown",
      "source": [
        "Criando uma expressão simbólica:"
      ],
      "metadata": {
        "id": "qqCDivgcEg1q"
      }
    },
    {
      "cell_type": "code",
      "source": [
        "expr = x**2 + 2*x - 1\n",
        "expr"
      ],
      "metadata": {
        "colab": {
          "base_uri": "https://localhost:8080/",
          "height": 39
        },
        "id": "IN4XES7YEmQM",
        "outputId": "39f80233-2dc6-4aab-ba00-b243ea81c4f3"
      },
      "execution_count": 8,
      "outputs": [
        {
          "output_type": "execute_result",
          "data": {
            "text/plain": [
              "x**2 + 2*x - 1"
            ],
            "text/latex": "$\\displaystyle x^{2} + 2 x - 1$"
          },
          "metadata": {},
          "execution_count": 8
        }
      ]
    },
    {
      "cell_type": "markdown",
      "source": [
        "Calcule a derivada da expressão \"expr\" em relação a \"x\":"
      ],
      "metadata": {
        "id": "i91Xd_tmFIej"
      }
    },
    {
      "cell_type": "code",
      "source": [
        "derivada = sp.diff(expr,x)\n",
        "derivada"
      ],
      "metadata": {
        "colab": {
          "base_uri": "https://localhost:8080/",
          "height": 39
        },
        "id": "LnK7VFbnFJoO",
        "outputId": "0d72e7b8-51d2-41e5-e520-020441414287"
      },
      "execution_count": 18,
      "outputs": [
        {
          "output_type": "execute_result",
          "data": {
            "text/plain": [
              "2*x + 2"
            ],
            "text/latex": "$\\displaystyle 2 x + 2$"
          },
          "metadata": {},
          "execution_count": 18
        }
      ]
    },
    {
      "cell_type": "markdown",
      "source": [
        "Resolva a equação \"expr\" igual a zero:"
      ],
      "metadata": {
        "id": "qPV5MJIeGODn"
      }
    },
    {
      "cell_type": "code",
      "source": [
        "raizes = sp.solve(expr, x)\n",
        "raizes"
      ],
      "metadata": {
        "colab": {
          "base_uri": "https://localhost:8080/"
        },
        "id": "zywc58ueGQZp",
        "outputId": "f09206a8-9a42-417e-b0ae-ec473f0e449a"
      },
      "execution_count": 21,
      "outputs": [
        {
          "output_type": "execute_result",
          "data": {
            "text/plain": [
              "[-1 + sqrt(2), -sqrt(2) - 1]"
            ]
          },
          "metadata": {},
          "execution_count": 21
        }
      ]
    },
    {
      "cell_type": "markdown",
      "source": [
        "Crie uma função simbólica \"f(x)\" representando a função seno:"
      ],
      "metadata": {
        "id": "RzTxP50BH2JE"
      }
    },
    {
      "cell_type": "code",
      "source": [
        "x = symbols('x')\n",
        "expr = sin(x)\n",
        "f = lambdify(x, expr, 'numpy')\n",
        "x = np.arange(0,2*np.pi,0.1)\n",
        "plt.plot(f(x-2*np.pi))"
      ],
      "metadata": {
        "id": "UZndXtnNH3qM"
      },
      "execution_count": null,
      "outputs": []
    },
    {
      "cell_type": "markdown",
      "source": [
        "Calcule o valor do seno de pi/4 usando a função \"f(x)\":"
      ],
      "metadata": {
        "id": "PfOhjDRvJxcN"
      }
    },
    {
      "cell_type": "code",
      "source": [
        "expr.subs(x,pi/4)"
      ],
      "metadata": {
        "colab": {
          "base_uri": "https://localhost:8080/",
          "height": 55
        },
        "id": "gGUVBRRpKVc9",
        "outputId": "dab0837c-435c-44f6-b21a-320855e96d57"
      },
      "execution_count": 40,
      "outputs": [
        {
          "output_type": "execute_result",
          "data": {
            "text/plain": [
              "sqrt(2)/2"
            ],
            "text/latex": "$\\displaystyle \\frac{\\sqrt{2}}{2}$"
          },
          "metadata": {},
          "execution_count": 40
        }
      ]
    },
    {
      "cell_type": "code",
      "source": [
        "expr.evalf(subs={x: pi/4})"
      ],
      "metadata": {
        "colab": {
          "base_uri": "https://localhost:8080/",
          "height": 37
        },
        "id": "38klZ-joJ0mL",
        "outputId": "f0bf808a-0ee3-4a00-a56d-324b7d5b475e"
      },
      "execution_count": 39,
      "outputs": [
        {
          "output_type": "execute_result",
          "data": {
            "text/plain": [
              "0.707106781186548"
            ],
            "text/latex": "$\\displaystyle 0.707106781186548$"
          },
          "metadata": {},
          "execution_count": 39
        }
      ]
    },
    {
      "cell_type": "markdown",
      "source": [
        "teste:"
      ],
      "metadata": {
        "id": "nP4UggsAK_bp"
      }
    },
    {
      "cell_type": "code",
      "source": [
        "x = 1/2\n",
        "x"
      ],
      "metadata": {
        "colab": {
          "base_uri": "https://localhost:8080/"
        },
        "id": "DRtgHI4gLAhn",
        "outputId": "6ecb36af-15ed-46e4-d687-3505caa20387"
      },
      "execution_count": 41,
      "outputs": [
        {
          "output_type": "execute_result",
          "data": {
            "text/plain": [
              "0.5"
            ]
          },
          "metadata": {},
          "execution_count": 41
        }
      ]
    },
    {
      "cell_type": "code",
      "source": [
        "x = Rational(1,2)\n",
        "x"
      ],
      "metadata": {
        "colab": {
          "base_uri": "https://localhost:8080/",
          "height": 51
        },
        "id": "0moPkxVfLE1S",
        "outputId": "a91d4cc8-9dc1-4f72-df0e-ec5c657d05cf"
      },
      "execution_count": 46,
      "outputs": [
        {
          "output_type": "execute_result",
          "data": {
            "text/plain": [
              "1/2"
            ],
            "text/latex": "$\\displaystyle \\frac{1}{2}$"
          },
          "metadata": {},
          "execution_count": 46
        }
      ]
    },
    {
      "cell_type": "markdown",
      "source": [
        "Crie uma matriz simbólica 2x2 chamada \"A\" com elementos [a, b, c, d]:"
      ],
      "metadata": {
        "id": "YaKx3GljLsiM"
      }
    },
    {
      "cell_type": "code",
      "source": [
        "a, b, c, d = symbols('a b c d')\n",
        "A = Matrix([[a, b], [c, d]])\n",
        "A"
      ],
      "metadata": {
        "colab": {
          "base_uri": "https://localhost:8080/",
          "height": 58
        },
        "id": "qvF-pEa8LuC6",
        "outputId": "89eef6bd-d178-4fa3-ba45-b2fbf6249b67"
      },
      "execution_count": 54,
      "outputs": [
        {
          "output_type": "execute_result",
          "data": {
            "text/plain": [
              "Matrix([\n",
              "[a, b],\n",
              "[c, d]])"
            ],
            "text/latex": "$\\displaystyle \\left[\\begin{matrix}a & b\\\\c & d\\end{matrix}\\right]$"
          },
          "metadata": {},
          "execution_count": 54
        }
      ]
    },
    {
      "cell_type": "markdown",
      "source": [
        "Calcule a matriz transposta de \"A\":"
      ],
      "metadata": {
        "id": "yUT0xXOnM2sV"
      }
    },
    {
      "cell_type": "code",
      "source": [
        "A.transpose()"
      ],
      "metadata": {
        "colab": {
          "base_uri": "https://localhost:8080/",
          "height": 58
        },
        "id": "METWM7UaM4cR",
        "outputId": "e01301a4-665a-4efd-b874-0e8d40c34b1b"
      },
      "execution_count": 55,
      "outputs": [
        {
          "output_type": "execute_result",
          "data": {
            "text/plain": [
              "Matrix([\n",
              "[a, c],\n",
              "[b, d]])"
            ],
            "text/latex": "$\\displaystyle \\left[\\begin{matrix}a & c\\\\b & d\\end{matrix}\\right]$"
          },
          "metadata": {},
          "execution_count": 55
        }
      ]
    },
    {
      "cell_type": "markdown",
      "source": [
        "Simplifique a expressão (x^2 + 2x + 1) / (x + 1):"
      ],
      "metadata": {
        "id": "sOFcbmf2NYFA"
      }
    },
    {
      "cell_type": "code",
      "source": [
        "x = symbols('x')\n",
        "expr = (x ** 2 + 2 * x + 1) / (x + 1)\n",
        "expr"
      ],
      "metadata": {
        "colab": {
          "base_uri": "https://localhost:8080/",
          "height": 55
        },
        "id": "_RItTunWNZLT",
        "outputId": "b37ec0e2-423b-4ab8-cf9f-979e7dca6174"
      },
      "execution_count": 56,
      "outputs": [
        {
          "output_type": "execute_result",
          "data": {
            "text/plain": [
              "(x**2 + 2*x + 1)/(x + 1)"
            ],
            "text/latex": "$\\displaystyle \\frac{x^{2} + 2 x + 1}{x + 1}$"
          },
          "metadata": {},
          "execution_count": 56
        }
      ]
    },
    {
      "cell_type": "code",
      "source": [
        "simpli = simplify(expr)\n",
        "simpli"
      ],
      "metadata": {
        "colab": {
          "base_uri": "https://localhost:8080/",
          "height": 39
        },
        "id": "FWrXUeQINzju",
        "outputId": "3af7dc2c-76bb-4577-86a6-ef72efe82eb6"
      },
      "execution_count": 58,
      "outputs": [
        {
          "output_type": "execute_result",
          "data": {
            "text/plain": [
              "x + 1"
            ],
            "text/latex": "$\\displaystyle x + 1$"
          },
          "metadata": {},
          "execution_count": 58
        }
      ]
    },
    {
      "cell_type": "markdown",
      "source": [
        "Calcule a integral definida da função f(x) = 2x^3 - 5x^2 + 3x + 7 no intervalo [0, 1]:"
      ],
      "metadata": {
        "id": "uPnDBxwROXSu"
      }
    },
    {
      "cell_type": "code",
      "source": [
        "x = symbols('x')\n",
        "expr = 2*x**3 - 5*x**2 + 3*x + 7\n",
        "f = lambdify(x, expr, 'numpy')\n",
        "x = np.arange(0,1,0.001)\n",
        "dx = x[1]-x[0]\n",
        "integral = sum(f(x))*dx\n",
        "integral"
      ],
      "metadata": {
        "colab": {
          "base_uri": "https://localhost:8080/"
        },
        "id": "AK_lEDJyOYnn",
        "outputId": "32fe64d3-54fe-4d8d-a2d4-e7e466bfebc5"
      },
      "execution_count": 67,
      "outputs": [
        {
          "output_type": "execute_result",
          "data": {
            "text/plain": [
              "7.333332999999999"
            ]
          },
          "metadata": {},
          "execution_count": 67
        }
      ]
    },
    {
      "cell_type": "code",
      "source": [
        "x = symbols('x')\n",
        "expr = 2*x**3 - 5*x**2 + 3*x + 7\n",
        "integral = integrate(expr, (x, 0, 1))\n",
        "integral"
      ],
      "metadata": {
        "colab": {
          "base_uri": "https://localhost:8080/",
          "height": 51
        },
        "id": "LHdDXwkgPlZZ",
        "outputId": "80fffcb3-8d8e-4720-ef13-db160a3061e9"
      },
      "execution_count": 71,
      "outputs": [
        {
          "output_type": "execute_result",
          "data": {
            "text/plain": [
              "22/3"
            ],
            "text/latex": "$\\displaystyle \\frac{22}{3}$"
          },
          "metadata": {},
          "execution_count": 71
        }
      ]
    },
    {
      "cell_type": "code",
      "source": [
        "integral.evalf()"
      ],
      "metadata": {
        "colab": {
          "base_uri": "https://localhost:8080/",
          "height": 37
        },
        "id": "5KcHtTZ_Qjsd",
        "outputId": "793ac990-84e6-4f4b-d42c-c6b2321b4c3a"
      },
      "execution_count": 73,
      "outputs": [
        {
          "output_type": "execute_result",
          "data": {
            "text/plain": [
              "7.33333333333333"
            ],
            "text/latex": "$\\displaystyle 7.33333333333333$"
          },
          "metadata": {},
          "execution_count": 73
        }
      ]
    },
    {
      "cell_type": "markdown",
      "source": [
        "Resolva o sistema de equações lineares:\n",
        "\n",
        "2x + 3y = 7\n",
        "\n",
        "4x - 2y = 1"
      ],
      "metadata": {
        "id": "UZ7jmbnqQ742"
      }
    },
    {
      "cell_type": "code",
      "source": [
        "x, y = symbols('x y')\n",
        "eq1 = Eq(2*x + 3*y, 7)\n",
        "eq2 = Eq(4*x - 2*y, 1)\n",
        "solucao = solve((eq1, eq2), (x, y))\n",
        "solucao[x]"
      ],
      "metadata": {
        "colab": {
          "base_uri": "https://localhost:8080/",
          "height": 51
        },
        "id": "aqOU2EmqRQmY",
        "outputId": "50f4cfae-61f4-4f6b-cb4c-dece7aab56ea"
      },
      "execution_count": 87,
      "outputs": [
        {
          "output_type": "execute_result",
          "data": {
            "text/plain": [
              "17/16"
            ],
            "text/latex": "$\\displaystyle \\frac{17}{16}$"
          },
          "metadata": {},
          "execution_count": 87
        }
      ]
    },
    {
      "cell_type": "markdown",
      "source": [
        "Encontre a solução geral da equação diferencial y'' + 4y' + 4y = 0:"
      ],
      "metadata": {
        "id": "MR3kbd1YTAFy"
      }
    },
    {
      "cell_type": "code",
      "source": [
        "y = Function('y')\n",
        "x = symbols('x')\n",
        "eq = Eq(diff(y(x),x,x) + 4*diff(y(x),x) + 4*y(x), 0)\n",
        "solucao = dsolve(eq, y(x))\n",
        "solucao"
      ],
      "metadata": {
        "colab": {
          "base_uri": "https://localhost:8080/",
          "height": 39
        },
        "id": "3mbzeS3wTBMJ",
        "outputId": "507fb44f-1943-468d-faf1-08c9fe7aa83b"
      },
      "execution_count": 89,
      "outputs": [
        {
          "output_type": "execute_result",
          "data": {
            "text/plain": [
              "Eq(y(x), (C1 + C2*x)*exp(-2*x))"
            ],
            "text/latex": "$\\displaystyle y{\\left(x \\right)} = \\left(C_{1} + C_{2} x\\right) e^{- 2 x}$"
          },
          "metadata": {},
          "execution_count": 89
        }
      ]
    }
  ]
}